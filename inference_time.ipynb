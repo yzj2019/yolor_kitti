{
 "cells": [
  {
   "cell_type": "markdown",
   "metadata": {},
   "source": [
    "## 推理时间"
   ]
  },
  {
   "cell_type": "code",
   "execution_count": 10,
   "metadata": {},
   "outputs": [],
   "source": [
    "import os\n",
    "import platform\n",
    "import shutil\n",
    "import time\n",
    "from pathlib import Path\n",
    "\n",
    "import cv2\n",
    "import torch\n",
    "import torch.backends.cudnn as cudnn\n",
    "from numpy import random\n",
    "\n",
    "import sys\n",
    "yolor_path = '/data/workspace/yuzijian/yolor'\n",
    "sys.path.append(yolor_path)\n",
    "\n",
    "\n",
    "from utils.google_utils import attempt_load\n",
    "from utils.datasets import LoadStreams, LoadImages\n",
    "from utils.general import (\n",
    "    check_img_size, non_max_suppression, apply_classifier, scale_coords, xyxy2xywh, strip_optimizer)\n",
    "from utils.plots import plot_one_box\n",
    "from utils.torch_utils import select_device, load_classifier, time_synchronized\n",
    "\n",
    "from models.models import *\n",
    "from utils.datasets import *\n",
    "from utils.general import *"
   ]
  },
  {
   "cell_type": "code",
   "execution_count": 11,
   "metadata": {},
   "outputs": [],
   "source": [
    "from easydict import EasyDict\n",
    "\n",
    "opt = EasyDict()\n",
    "opt.agnostic_nms = False\n",
    "opt.augment = False\n",
    "opt.classes = None\n",
    "opt.conf_thres = 0.5\n",
    "opt.device = '0'\n",
    "opt.img_size = 1280\n",
    "opt.iou_thres = 0.5\n",
    "opt.names = 'data/kitti.names'\n",
    "opt.output = 'runs/inference/time'\n",
    "opt.save_txt = False\n",
    "opt.source = '/data/workspace/dataset/kitti_2d_detection/training/image_2/000001.png'\n",
    "opt.update = False\n",
    "opt.view_img = False\n",
    "opt.cfg = 'cfg/yolor_p6.cfg'\n",
    "opt.weights = ['runs/finetune/004/weights/best_ap.pt']"
   ]
  },
  {
   "cell_type": "code",
   "execution_count": 12,
   "metadata": {},
   "outputs": [],
   "source": [
    "def load_classes(path):\n",
    "    # Loads *.names file at 'path'\n",
    "    with open(path, 'r') as f:\n",
    "        names = f.read().split('\\n')\n",
    "    return list(filter(None, names))  # filter removes empty strings (such as last line)"
   ]
  },
  {
   "cell_type": "code",
   "execution_count": 19,
   "metadata": {},
   "outputs": [],
   "source": [
    "out, source, weights, view_img, save_txt, imgsz, cfg, names = \\\n",
    "    opt.output, opt.source, opt.weights, opt.view_img, opt.save_txt, opt.img_size, opt.cfg, opt.names\n",
    "webcam = source == '0' or source.startswith('rtsp') or source.startswith('http') or source.endswith('.txt')\n",
    "\n",
    "# Initialize\n",
    "device = select_device(opt.device)\n",
    "if os.path.exists(out):\n",
    "    shutil.rmtree(out)  # delete output folder\n",
    "os.makedirs(out)  # make new output folder\n",
    "half = device.type != 'cpu'  # half precision only supported on CUDA\n",
    "\n",
    "# Load model\n",
    "model = Darknet(cfg, imgsz).cuda()\n",
    "model.load_state_dict(torch.load(weights[0], map_location=device)['model'])\n",
    "\n",
    "model.to(device).eval()\n",
    "if half:\n",
    "    model.half()  # to FP16\n",
    "\n",
    "\n",
    "# Get names and colors\n",
    "names = load_classes(names)\n",
    "colors = [[random.randint(0, 255) for _ in range(3)] for _ in range(len(names))]\n",
    "\n",
    "# Run inference\n",
    "img = torch.zeros((1, 3, imgsz, imgsz), device=device)  # init img\n",
    "_ = model(img.half() if half else img) if device.type != 'cpu' else None  # run once\n",
    "\n",
    "image_hwc = cv2.imread(source)\n",
    "image_chw = letterbox(image_hwc, new_shape=imgsz, auto_size=64)[0]\n",
    "image_chw = np.transpose(image_chw, (2,0,1))\n",
    "img = torch.from_numpy(image_chw).to(device)\n",
    "img = img.half() if half else img.float()  # uint8 to fp16/32\n",
    "img /= 255.0  # 0 - 255 to 0.0 - 1.0\n",
    "if img.ndimension() == 3:\n",
    "    img = img.unsqueeze(0)"
   ]
  },
  {
   "cell_type": "code",
   "execution_count": 21,
   "metadata": {},
   "outputs": [
    {
     "name": "stdout",
     "output_type": "stream",
     "text": [
      "27.1 ms ± 127 µs per loop (mean ± std. dev. of 7 runs, 500 loops each)\n"
     ]
    }
   ],
   "source": [
    "%%timeit -n 500\n",
    "with torch.no_grad():\n",
    "    # Inference\n",
    "    pred = model(img, augment=opt.augment)[0]\n",
    "    # Apply NMS\n",
    "    pred = non_max_suppression(pred, opt.conf_thres, opt.iou_thres, classes=opt.classes, agnostic=opt.agnostic_nms)"
   ]
  },
  {
   "cell_type": "code",
   "execution_count": 15,
   "metadata": {},
   "outputs": [],
   "source": [
    "opt.cfg = 'cfg/yolor_w6.cfg'\n",
    "opt.weights = ['runs/finetune/003/weights/best_ap.pt']"
   ]
  },
  {
   "cell_type": "code",
   "execution_count": 22,
   "metadata": {},
   "outputs": [],
   "source": [
    "out, source, weights, view_img, save_txt, imgsz, cfg, names = \\\n",
    "    opt.output, opt.source, opt.weights, opt.view_img, opt.save_txt, opt.img_size, opt.cfg, opt.names\n",
    "webcam = source == '0' or source.startswith('rtsp') or source.startswith('http') or source.endswith('.txt')\n",
    "\n",
    "# Initialize\n",
    "device = select_device(opt.device)\n",
    "if os.path.exists(out):\n",
    "    shutil.rmtree(out)  # delete output folder\n",
    "os.makedirs(out)  # make new output folder\n",
    "half = device.type != 'cpu'  # half precision only supported on CUDA\n",
    "\n",
    "# Load model\n",
    "model = Darknet(cfg, imgsz).cuda()\n",
    "model.load_state_dict(torch.load(weights[0], map_location=device)['model'])\n",
    "\n",
    "model.to(device).eval()\n",
    "if half:\n",
    "    model.half()  # to FP16\n",
    "\n",
    "\n",
    "# Get names and colors\n",
    "names = load_classes(names)\n",
    "colors = [[random.randint(0, 255) for _ in range(3)] for _ in range(len(names))]\n",
    "\n",
    "# Run inference\n",
    "img = torch.zeros((1, 3, imgsz, imgsz), device=device)  # init img\n",
    "_ = model(img.half() if half else img) if device.type != 'cpu' else None  # run once\n",
    "\n",
    "image_hwc = cv2.imread(source)\n",
    "image_chw = letterbox(image_hwc, new_shape=imgsz, auto_size=64)[0]\n",
    "image_chw = np.transpose(image_chw, (2,0,1))\n",
    "img = torch.from_numpy(image_chw).to(device)\n",
    "img = img.half() if half else img.float()  # uint8 to fp16/32\n",
    "img /= 255.0  # 0 - 255 to 0.0 - 1.0\n",
    "if img.ndimension() == 3:\n",
    "    img = img.unsqueeze(0)"
   ]
  },
  {
   "cell_type": "code",
   "execution_count": 41,
   "metadata": {},
   "outputs": [
    {
     "name": "stdout",
     "output_type": "stream",
     "text": [
      "27.1 ms ± 75.7 µs per loop (mean ± std. dev. of 7 runs, 500 loops each)\n"
     ]
    }
   ],
   "source": [
    "%%timeit -n 500\n",
    "with torch.no_grad():\n",
    "    # Inference\n",
    "    pred = model(img, augment=opt.augment)[0]\n",
    "    # Apply NMS\n",
    "    pred = non_max_suppression(pred, opt.conf_thres, opt.iou_thres, classes=opt.classes, agnostic=opt.agnostic_nms)"
   ]
  },
  {
   "cell_type": "code",
   "execution_count": 24,
   "metadata": {},
   "outputs": [
    {
     "data": {
      "text/plain": [
       "torch.Size([1, 3, 448, 1280])"
      ]
     },
     "execution_count": 24,
     "metadata": {},
     "output_type": "execute_result"
    }
   ],
   "source": [
    "img.shape"
   ]
  }
 ],
 "metadata": {
  "interpreter": {
   "hash": "2c7028488e96da58b8b1dfc5d68f376c7ec948d7e9ae65314e1242d667b31278"
  },
  "kernelspec": {
   "display_name": "Python 3.8.8 ('yolo': conda)",
   "language": "python",
   "name": "python3"
  },
  "language_info": {
   "codemirror_mode": {
    "name": "ipython",
    "version": 3
   },
   "file_extension": ".py",
   "mimetype": "text/x-python",
   "name": "python",
   "nbconvert_exporter": "python",
   "pygments_lexer": "ipython3",
   "version": "3.8.8"
  },
  "orig_nbformat": 4
 },
 "nbformat": 4,
 "nbformat_minor": 2
}
