{
 "cells": [
  {
   "cell_type": "markdown",
   "metadata": {},
   "source": [
    "## 使用YOLOR做detector，配合OCSORT实现目标跟踪"
   ]
  },
  {
   "cell_type": "code",
   "execution_count": 1,
   "metadata": {},
   "outputs": [],
   "source": [
    "import sys\n",
    "sys.path.append('../OC_SORT')\n",
    "from trackers.ocsort_tracker.ocsort import OCSort"
   ]
  },
  {
   "cell_type": "code",
   "execution_count": 2,
   "metadata": {},
   "outputs": [
    {
     "name": "stderr",
     "output_type": "stream",
     "text": [
      "/data/workspace/yuzijian/miniconda3/envs/yolo/lib/python3.8/site-packages/tqdm/auto.py:22: TqdmWarning: IProgress not found. Please update jupyter and ipywidgets. See https://ipywidgets.readthedocs.io/en/stable/user_install.html\n",
      "  from .autonotebook import tqdm as notebook_tqdm\n"
     ]
    }
   ],
   "source": [
    "import os\n",
    "import platform\n",
    "import shutil\n",
    "import time\n",
    "from pathlib import Path\n",
    "\n",
    "import cv2\n",
    "import torch\n",
    "import torch.backends.cudnn as cudnn\n",
    "from numpy import random\n",
    "\n",
    "import sys\n",
    "yolor_path = '/data/workspace/yuzijian/yolor'\n",
    "sys.path.append(yolor_path)\n",
    "\n",
    "\n",
    "from utils.google_utils import attempt_load\n",
    "from utils.datasets import LoadStreams, LoadImages\n",
    "from utils.general import (\n",
    "    check_img_size, non_max_suppression, apply_classifier, scale_coords, xyxy2xywh, strip_optimizer)\n",
    "from utils.plots import plot_one_box\n",
    "from utils.torch_utils import select_device, load_classifier, time_synchronized\n",
    "\n",
    "from models.models import *\n",
    "from utils.datasets import *\n",
    "from utils.general import *"
   ]
  },
  {
   "cell_type": "code",
   "execution_count": 3,
   "metadata": {},
   "outputs": [],
   "source": [
    "from easydict import EasyDict\n",
    "\n",
    "opt = EasyDict()\n",
    "opt.agnostic_nms = False\n",
    "opt.augment = False\n",
    "opt.classes = None\n",
    "opt.conf_thres = 0.5\n",
    "opt.device = '0'\n",
    "opt.img_size = 1280\n",
    "opt.iou_thres = 0.5\n",
    "opt.names = 'data/kitti.names'\n",
    "opt.output = 'runs/inference/time'\n",
    "opt.save_txt = False\n",
    "opt.source = '/data/workspace/dataset/kitti_2d_detection/training/image_2/000001.png'\n",
    "opt.update = False\n",
    "opt.view_img = False\n",
    "opt.cfg = 'cfg/yolor_p6.cfg'\n",
    "opt.weights = ['runs/finetune/004/weights/best_ap.pt']"
   ]
  },
  {
   "cell_type": "code",
   "execution_count": 4,
   "metadata": {},
   "outputs": [],
   "source": [
    "def load_classes(path):\n",
    "    # Loads *.names file at 'path'\n",
    "    with open(path, 'r') as f:\n",
    "        names = f.read().split('\\n')\n",
    "    return list(filter(None, names))  # filter removes empty strings (such as last line)"
   ]
  },
  {
   "cell_type": "code",
   "execution_count": 5,
   "metadata": {},
   "outputs": [
    {
     "ename": "RuntimeError",
     "evalue": "CUDA out of memory. Tried to allocate 14.00 MiB (GPU 0; 39.59 GiB total capacity; 591.48 MiB already allocated; 8.50 MiB free; 630.00 MiB reserved in total by PyTorch) If reserved memory is >> allocated memory try setting max_split_size_mb to avoid fragmentation.  See documentation for Memory Management and PYTORCH_CUDA_ALLOC_CONF",
     "output_type": "error",
     "traceback": [
      "\u001b[0;31m---------------------------------------------------------------------------\u001b[0m",
      "\u001b[0;31mRuntimeError\u001b[0m                              Traceback (most recent call last)",
      "\u001b[1;32m/data/workspace/yuzijian/yolor_kitti/with_ocsort.ipynb Cell 6'\u001b[0m in \u001b[0;36m<cell line: 27>\u001b[0;34m()\u001b[0m\n\u001b[1;32m     <a href='vscode-notebook-cell://ssh-remote%2Blinke4/data/workspace/yuzijian/yolor_kitti/with_ocsort.ipynb#ch0000006vscode-remote?line=24'>25</a>\u001b[0m \u001b[39m# Run inference\u001b[39;00m\n\u001b[1;32m     <a href='vscode-notebook-cell://ssh-remote%2Blinke4/data/workspace/yuzijian/yolor_kitti/with_ocsort.ipynb#ch0000006vscode-remote?line=25'>26</a>\u001b[0m img \u001b[39m=\u001b[39m torch\u001b[39m.\u001b[39mzeros((\u001b[39m1\u001b[39m, \u001b[39m3\u001b[39m, imgsz, imgsz), device\u001b[39m=\u001b[39mdevice)  \u001b[39m# init img\u001b[39;00m\n\u001b[0;32m---> <a href='vscode-notebook-cell://ssh-remote%2Blinke4/data/workspace/yuzijian/yolor_kitti/with_ocsort.ipynb#ch0000006vscode-remote?line=26'>27</a>\u001b[0m _ \u001b[39m=\u001b[39m model(img\u001b[39m.\u001b[39;49mhalf() \u001b[39mif\u001b[39;49;00m half \u001b[39melse\u001b[39;49;00m img) \u001b[39mif\u001b[39;00m device\u001b[39m.\u001b[39mtype \u001b[39m!=\u001b[39m \u001b[39m'\u001b[39m\u001b[39mcpu\u001b[39m\u001b[39m'\u001b[39m \u001b[39melse\u001b[39;00m \u001b[39mNone\u001b[39;00m  \u001b[39m# run once\u001b[39;00m\n\u001b[1;32m     <a href='vscode-notebook-cell://ssh-remote%2Blinke4/data/workspace/yuzijian/yolor_kitti/with_ocsort.ipynb#ch0000006vscode-remote?line=28'>29</a>\u001b[0m image_hwc \u001b[39m=\u001b[39m cv2\u001b[39m.\u001b[39mimread(source)\n\u001b[1;32m     <a href='vscode-notebook-cell://ssh-remote%2Blinke4/data/workspace/yuzijian/yolor_kitti/with_ocsort.ipynb#ch0000006vscode-remote?line=29'>30</a>\u001b[0m image_chw \u001b[39m=\u001b[39m letterbox(image_hwc, new_shape\u001b[39m=\u001b[39mimgsz, auto_size\u001b[39m=\u001b[39m\u001b[39m64\u001b[39m)[\u001b[39m0\u001b[39m]\n",
      "File \u001b[0;32m~/miniconda3/envs/yolo/lib/python3.8/site-packages/torch/nn/modules/module.py:1110\u001b[0m, in \u001b[0;36mModule._call_impl\u001b[0;34m(self, *input, **kwargs)\u001b[0m\n\u001b[1;32m   <a href='file:///data/workspace/yuzijian/miniconda3/envs/yolo/lib/python3.8/site-packages/torch/nn/modules/module.py?line=1105'>1106</a>\u001b[0m \u001b[39m# If we don't have any hooks, we want to skip the rest of the logic in\u001b[39;00m\n\u001b[1;32m   <a href='file:///data/workspace/yuzijian/miniconda3/envs/yolo/lib/python3.8/site-packages/torch/nn/modules/module.py?line=1106'>1107</a>\u001b[0m \u001b[39m# this function, and just call forward.\u001b[39;00m\n\u001b[1;32m   <a href='file:///data/workspace/yuzijian/miniconda3/envs/yolo/lib/python3.8/site-packages/torch/nn/modules/module.py?line=1107'>1108</a>\u001b[0m \u001b[39mif\u001b[39;00m \u001b[39mnot\u001b[39;00m (\u001b[39mself\u001b[39m\u001b[39m.\u001b[39m_backward_hooks \u001b[39mor\u001b[39;00m \u001b[39mself\u001b[39m\u001b[39m.\u001b[39m_forward_hooks \u001b[39mor\u001b[39;00m \u001b[39mself\u001b[39m\u001b[39m.\u001b[39m_forward_pre_hooks \u001b[39mor\u001b[39;00m _global_backward_hooks\n\u001b[1;32m   <a href='file:///data/workspace/yuzijian/miniconda3/envs/yolo/lib/python3.8/site-packages/torch/nn/modules/module.py?line=1108'>1109</a>\u001b[0m         \u001b[39mor\u001b[39;00m _global_forward_hooks \u001b[39mor\u001b[39;00m _global_forward_pre_hooks):\n\u001b[0;32m-> <a href='file:///data/workspace/yuzijian/miniconda3/envs/yolo/lib/python3.8/site-packages/torch/nn/modules/module.py?line=1109'>1110</a>\u001b[0m     \u001b[39mreturn\u001b[39;00m forward_call(\u001b[39m*\u001b[39;49m\u001b[39minput\u001b[39;49m, \u001b[39m*\u001b[39;49m\u001b[39m*\u001b[39;49mkwargs)\n\u001b[1;32m   <a href='file:///data/workspace/yuzijian/miniconda3/envs/yolo/lib/python3.8/site-packages/torch/nn/modules/module.py?line=1110'>1111</a>\u001b[0m \u001b[39m# Do not call functions when jit is used\u001b[39;00m\n\u001b[1;32m   <a href='file:///data/workspace/yuzijian/miniconda3/envs/yolo/lib/python3.8/site-packages/torch/nn/modules/module.py?line=1111'>1112</a>\u001b[0m full_backward_hooks, non_full_backward_hooks \u001b[39m=\u001b[39m [], []\n",
      "File \u001b[0;32m~/yolor_kitti/models/models.py:543\u001b[0m, in \u001b[0;36mDarknet.forward\u001b[0;34m(self, x, augment, verbose)\u001b[0m\n\u001b[1;32m    <a href='file:///data/workspace/yuzijian/yolor_kitti/models/models.py?line=539'>540</a>\u001b[0m \u001b[39mdef\u001b[39;00m \u001b[39mforward\u001b[39m(\u001b[39mself\u001b[39m, x, augment\u001b[39m=\u001b[39m\u001b[39mFalse\u001b[39;00m, verbose\u001b[39m=\u001b[39m\u001b[39mFalse\u001b[39;00m):\n\u001b[1;32m    <a href='file:///data/workspace/yuzijian/yolor_kitti/models/models.py?line=541'>542</a>\u001b[0m     \u001b[39mif\u001b[39;00m \u001b[39mnot\u001b[39;00m augment:\n\u001b[0;32m--> <a href='file:///data/workspace/yuzijian/yolor_kitti/models/models.py?line=542'>543</a>\u001b[0m         \u001b[39mreturn\u001b[39;00m \u001b[39mself\u001b[39;49m\u001b[39m.\u001b[39;49mforward_once(x)\n\u001b[1;32m    <a href='file:///data/workspace/yuzijian/yolor_kitti/models/models.py?line=543'>544</a>\u001b[0m     \u001b[39melse\u001b[39;00m:  \u001b[39m# Augment images (inference and test only) https://github.com/ultralytics/yolov3/issues/931\u001b[39;00m\n\u001b[1;32m    <a href='file:///data/workspace/yuzijian/yolor_kitti/models/models.py?line=544'>545</a>\u001b[0m         img_size \u001b[39m=\u001b[39m x\u001b[39m.\u001b[39mshape[\u001b[39m-\u001b[39m\u001b[39m2\u001b[39m:]  \u001b[39m# height, width\u001b[39;00m\n",
      "File \u001b[0;32m~/yolor_kitti/models/models.py:604\u001b[0m, in \u001b[0;36mDarknet.forward_once\u001b[0;34m(self, x, augment, verbose)\u001b[0m\n\u001b[1;32m    <a href='file:///data/workspace/yuzijian/yolor_kitti/models/models.py?line=599'>600</a>\u001b[0m     yolo_out\u001b[39m.\u001b[39mappend(module(x, out))\n\u001b[1;32m    <a href='file:///data/workspace/yuzijian/yolor_kitti/models/models.py?line=600'>601</a>\u001b[0m \u001b[39melse\u001b[39;00m:  \u001b[39m# run module directly, i.e. mtype = 'convolutional', 'upsample', 'maxpool', 'batchnorm2d' etc.\u001b[39;00m\n\u001b[1;32m    <a href='file:///data/workspace/yuzijian/yolor_kitti/models/models.py?line=601'>602</a>\u001b[0m     \u001b[39m#print(module)\u001b[39;00m\n\u001b[1;32m    <a href='file:///data/workspace/yuzijian/yolor_kitti/models/models.py?line=602'>603</a>\u001b[0m     \u001b[39m#print(x.shape)\u001b[39;00m\n\u001b[0;32m--> <a href='file:///data/workspace/yuzijian/yolor_kitti/models/models.py?line=603'>604</a>\u001b[0m     x \u001b[39m=\u001b[39m module(x)\n\u001b[1;32m    <a href='file:///data/workspace/yuzijian/yolor_kitti/models/models.py?line=605'>606</a>\u001b[0m out\u001b[39m.\u001b[39mappend(x \u001b[39mif\u001b[39;00m \u001b[39mself\u001b[39m\u001b[39m.\u001b[39mrouts[i] \u001b[39melse\u001b[39;00m [])\n\u001b[1;32m    <a href='file:///data/workspace/yuzijian/yolor_kitti/models/models.py?line=606'>607</a>\u001b[0m \u001b[39mif\u001b[39;00m verbose:\n",
      "File \u001b[0;32m~/miniconda3/envs/yolo/lib/python3.8/site-packages/torch/nn/modules/module.py:1110\u001b[0m, in \u001b[0;36mModule._call_impl\u001b[0;34m(self, *input, **kwargs)\u001b[0m\n\u001b[1;32m   <a href='file:///data/workspace/yuzijian/miniconda3/envs/yolo/lib/python3.8/site-packages/torch/nn/modules/module.py?line=1105'>1106</a>\u001b[0m \u001b[39m# If we don't have any hooks, we want to skip the rest of the logic in\u001b[39;00m\n\u001b[1;32m   <a href='file:///data/workspace/yuzijian/miniconda3/envs/yolo/lib/python3.8/site-packages/torch/nn/modules/module.py?line=1106'>1107</a>\u001b[0m \u001b[39m# this function, and just call forward.\u001b[39;00m\n\u001b[1;32m   <a href='file:///data/workspace/yuzijian/miniconda3/envs/yolo/lib/python3.8/site-packages/torch/nn/modules/module.py?line=1107'>1108</a>\u001b[0m \u001b[39mif\u001b[39;00m \u001b[39mnot\u001b[39;00m (\u001b[39mself\u001b[39m\u001b[39m.\u001b[39m_backward_hooks \u001b[39mor\u001b[39;00m \u001b[39mself\u001b[39m\u001b[39m.\u001b[39m_forward_hooks \u001b[39mor\u001b[39;00m \u001b[39mself\u001b[39m\u001b[39m.\u001b[39m_forward_pre_hooks \u001b[39mor\u001b[39;00m _global_backward_hooks\n\u001b[1;32m   <a href='file:///data/workspace/yuzijian/miniconda3/envs/yolo/lib/python3.8/site-packages/torch/nn/modules/module.py?line=1108'>1109</a>\u001b[0m         \u001b[39mor\u001b[39;00m _global_forward_hooks \u001b[39mor\u001b[39;00m _global_forward_pre_hooks):\n\u001b[0;32m-> <a href='file:///data/workspace/yuzijian/miniconda3/envs/yolo/lib/python3.8/site-packages/torch/nn/modules/module.py?line=1109'>1110</a>\u001b[0m     \u001b[39mreturn\u001b[39;00m forward_call(\u001b[39m*\u001b[39;49m\u001b[39minput\u001b[39;49m, \u001b[39m*\u001b[39;49m\u001b[39m*\u001b[39;49mkwargs)\n\u001b[1;32m   <a href='file:///data/workspace/yuzijian/miniconda3/envs/yolo/lib/python3.8/site-packages/torch/nn/modules/module.py?line=1110'>1111</a>\u001b[0m \u001b[39m# Do not call functions when jit is used\u001b[39;00m\n\u001b[1;32m   <a href='file:///data/workspace/yuzijian/miniconda3/envs/yolo/lib/python3.8/site-packages/torch/nn/modules/module.py?line=1111'>1112</a>\u001b[0m full_backward_hooks, non_full_backward_hooks \u001b[39m=\u001b[39m [], []\n",
      "File \u001b[0;32m~/miniconda3/envs/yolo/lib/python3.8/site-packages/torch/nn/modules/container.py:141\u001b[0m, in \u001b[0;36mSequential.forward\u001b[0;34m(self, input)\u001b[0m\n\u001b[1;32m    <a href='file:///data/workspace/yuzijian/miniconda3/envs/yolo/lib/python3.8/site-packages/torch/nn/modules/container.py?line=138'>139</a>\u001b[0m \u001b[39mdef\u001b[39;00m \u001b[39mforward\u001b[39m(\u001b[39mself\u001b[39m, \u001b[39minput\u001b[39m):\n\u001b[1;32m    <a href='file:///data/workspace/yuzijian/miniconda3/envs/yolo/lib/python3.8/site-packages/torch/nn/modules/container.py?line=139'>140</a>\u001b[0m     \u001b[39mfor\u001b[39;00m module \u001b[39min\u001b[39;00m \u001b[39mself\u001b[39m:\n\u001b[0;32m--> <a href='file:///data/workspace/yuzijian/miniconda3/envs/yolo/lib/python3.8/site-packages/torch/nn/modules/container.py?line=140'>141</a>\u001b[0m         \u001b[39minput\u001b[39m \u001b[39m=\u001b[39m module(\u001b[39minput\u001b[39;49m)\n\u001b[1;32m    <a href='file:///data/workspace/yuzijian/miniconda3/envs/yolo/lib/python3.8/site-packages/torch/nn/modules/container.py?line=141'>142</a>\u001b[0m     \u001b[39mreturn\u001b[39;00m \u001b[39minput\u001b[39m\n",
      "File \u001b[0;32m~/miniconda3/envs/yolo/lib/python3.8/site-packages/torch/nn/modules/module.py:1110\u001b[0m, in \u001b[0;36mModule._call_impl\u001b[0;34m(self, *input, **kwargs)\u001b[0m\n\u001b[1;32m   <a href='file:///data/workspace/yuzijian/miniconda3/envs/yolo/lib/python3.8/site-packages/torch/nn/modules/module.py?line=1105'>1106</a>\u001b[0m \u001b[39m# If we don't have any hooks, we want to skip the rest of the logic in\u001b[39;00m\n\u001b[1;32m   <a href='file:///data/workspace/yuzijian/miniconda3/envs/yolo/lib/python3.8/site-packages/torch/nn/modules/module.py?line=1106'>1107</a>\u001b[0m \u001b[39m# this function, and just call forward.\u001b[39;00m\n\u001b[1;32m   <a href='file:///data/workspace/yuzijian/miniconda3/envs/yolo/lib/python3.8/site-packages/torch/nn/modules/module.py?line=1107'>1108</a>\u001b[0m \u001b[39mif\u001b[39;00m \u001b[39mnot\u001b[39;00m (\u001b[39mself\u001b[39m\u001b[39m.\u001b[39m_backward_hooks \u001b[39mor\u001b[39;00m \u001b[39mself\u001b[39m\u001b[39m.\u001b[39m_forward_hooks \u001b[39mor\u001b[39;00m \u001b[39mself\u001b[39m\u001b[39m.\u001b[39m_forward_pre_hooks \u001b[39mor\u001b[39;00m _global_backward_hooks\n\u001b[1;32m   <a href='file:///data/workspace/yuzijian/miniconda3/envs/yolo/lib/python3.8/site-packages/torch/nn/modules/module.py?line=1108'>1109</a>\u001b[0m         \u001b[39mor\u001b[39;00m _global_forward_hooks \u001b[39mor\u001b[39;00m _global_forward_pre_hooks):\n\u001b[0;32m-> <a href='file:///data/workspace/yuzijian/miniconda3/envs/yolo/lib/python3.8/site-packages/torch/nn/modules/module.py?line=1109'>1110</a>\u001b[0m     \u001b[39mreturn\u001b[39;00m forward_call(\u001b[39m*\u001b[39;49m\u001b[39minput\u001b[39;49m, \u001b[39m*\u001b[39;49m\u001b[39m*\u001b[39;49mkwargs)\n\u001b[1;32m   <a href='file:///data/workspace/yuzijian/miniconda3/envs/yolo/lib/python3.8/site-packages/torch/nn/modules/module.py?line=1110'>1111</a>\u001b[0m \u001b[39m# Do not call functions when jit is used\u001b[39;00m\n\u001b[1;32m   <a href='file:///data/workspace/yuzijian/miniconda3/envs/yolo/lib/python3.8/site-packages/torch/nn/modules/module.py?line=1111'>1112</a>\u001b[0m full_backward_hooks, non_full_backward_hooks \u001b[39m=\u001b[39m [], []\n",
      "File \u001b[0;32m~/miniconda3/envs/yolo/lib/python3.8/site-packages/torch/nn/modules/activation.py:394\u001b[0m, in \u001b[0;36mSiLU.forward\u001b[0;34m(self, input)\u001b[0m\n\u001b[1;32m    <a href='file:///data/workspace/yuzijian/miniconda3/envs/yolo/lib/python3.8/site-packages/torch/nn/modules/activation.py?line=392'>393</a>\u001b[0m \u001b[39mdef\u001b[39;00m \u001b[39mforward\u001b[39m(\u001b[39mself\u001b[39m, \u001b[39minput\u001b[39m: Tensor) \u001b[39m-\u001b[39m\u001b[39m>\u001b[39m Tensor:\n\u001b[0;32m--> <a href='file:///data/workspace/yuzijian/miniconda3/envs/yolo/lib/python3.8/site-packages/torch/nn/modules/activation.py?line=393'>394</a>\u001b[0m     \u001b[39mreturn\u001b[39;00m F\u001b[39m.\u001b[39;49msilu(\u001b[39minput\u001b[39;49m, inplace\u001b[39m=\u001b[39;49m\u001b[39mself\u001b[39;49m\u001b[39m.\u001b[39;49minplace)\n",
      "File \u001b[0;32m~/miniconda3/envs/yolo/lib/python3.8/site-packages/torch/nn/functional.py:2032\u001b[0m, in \u001b[0;36msilu\u001b[0;34m(input, inplace)\u001b[0m\n\u001b[1;32m   <a href='file:///data/workspace/yuzijian/miniconda3/envs/yolo/lib/python3.8/site-packages/torch/nn/functional.py?line=2029'>2030</a>\u001b[0m \u001b[39mif\u001b[39;00m inplace:\n\u001b[1;32m   <a href='file:///data/workspace/yuzijian/miniconda3/envs/yolo/lib/python3.8/site-packages/torch/nn/functional.py?line=2030'>2031</a>\u001b[0m     \u001b[39mreturn\u001b[39;00m torch\u001b[39m.\u001b[39m_C\u001b[39m.\u001b[39m_nn\u001b[39m.\u001b[39msilu_(\u001b[39minput\u001b[39m)\n\u001b[0;32m-> <a href='file:///data/workspace/yuzijian/miniconda3/envs/yolo/lib/python3.8/site-packages/torch/nn/functional.py?line=2031'>2032</a>\u001b[0m \u001b[39mreturn\u001b[39;00m torch\u001b[39m.\u001b[39;49m_C\u001b[39m.\u001b[39;49m_nn\u001b[39m.\u001b[39;49msilu(\u001b[39minput\u001b[39;49m)\n",
      "\u001b[0;31mRuntimeError\u001b[0m: CUDA out of memory. Tried to allocate 14.00 MiB (GPU 0; 39.59 GiB total capacity; 591.48 MiB already allocated; 8.50 MiB free; 630.00 MiB reserved in total by PyTorch) If reserved memory is >> allocated memory try setting max_split_size_mb to avoid fragmentation.  See documentation for Memory Management and PYTORCH_CUDA_ALLOC_CONF"
     ]
    }
   ],
   "source": [
    "out, source, weights, view_img, save_txt, imgsz, cfg, names = \\\n",
    "    opt.output, opt.source, opt.weights, opt.view_img, opt.save_txt, opt.img_size, opt.cfg, opt.names\n",
    "webcam = source == '0' or source.startswith('rtsp') or source.startswith('http') or source.endswith('.txt')\n",
    "\n",
    "# Initialize\n",
    "device = select_device(opt.device)\n",
    "if os.path.exists(out):\n",
    "    shutil.rmtree(out)  # delete output folder\n",
    "os.makedirs(out)  # make new output folder\n",
    "half = device.type != 'cpu'  # half precision only supported on CUDA\n",
    "\n",
    "# Load model\n",
    "model = Darknet(cfg, imgsz).cuda()\n",
    "model.load_state_dict(torch.load(weights[0], map_location=device)['model'])\n",
    "\n",
    "model.to(device).eval()\n",
    "if half:\n",
    "    model.half()  # to FP16\n",
    "\n",
    "\n",
    "# Get names and colors\n",
    "names = load_classes(names)\n",
    "colors = [[random.randint(0, 255) for _ in range(3)] for _ in range(len(names))]\n",
    "\n",
    "# Run inference\n",
    "img = torch.zeros((1, 3, imgsz, imgsz), device=device)  # init img\n",
    "_ = model(img.half() if half else img) if device.type != 'cpu' else None  # run once\n",
    "\n",
    "image_hwc = cv2.imread(source)\n",
    "image_chw = letterbox(image_hwc, new_shape=imgsz, auto_size=64)[0]\n",
    "image_chw = np.transpose(image_chw, (2,0,1))\n",
    "img = torch.from_numpy(image_chw).to(device)\n",
    "img = img.half() if half else img.float()  # uint8 to fp16/32\n",
    "img /= 255.0  # 0 - 255 to 0.0 - 1.0\n",
    "if img.ndimension() == 3:\n",
    "    img = img.unsqueeze(0)"
   ]
  },
  {
   "cell_type": "code",
   "execution_count": null,
   "metadata": {},
   "outputs": [
    {
     "name": "stdout",
     "output_type": "stream",
     "text": [
      "27.1 ms ± 127 µs per loop (mean ± std. dev. of 7 runs, 500 loops each)\n"
     ]
    }
   ],
   "source": [
    "with torch.no_grad():\n",
    "    # Inference\n",
    "    pred = model(img, augment=opt.augment)[0]\n",
    "    # Apply NMS\n",
    "    pred = non_max_suppression(pred, opt.conf_thres, opt.iou_thres, classes=opt.classes, agnostic=opt.agnostic_nms)"
   ]
  }
 ],
 "metadata": {
  "interpreter": {
   "hash": "2c7028488e96da58b8b1dfc5d68f376c7ec948d7e9ae65314e1242d667b31278"
  },
  "kernelspec": {
   "display_name": "Python 3.8.8 ('yolo': conda)",
   "language": "python",
   "name": "python3"
  },
  "language_info": {
   "codemirror_mode": {
    "name": "ipython",
    "version": 3
   },
   "file_extension": ".py",
   "mimetype": "text/x-python",
   "name": "python",
   "nbconvert_exporter": "python",
   "pygments_lexer": "ipython3",
   "version": "3.8.8"
  },
  "orig_nbformat": 4
 },
 "nbformat": 4,
 "nbformat_minor": 2
}
